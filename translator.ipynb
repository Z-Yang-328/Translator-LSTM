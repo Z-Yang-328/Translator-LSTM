{
 "cells": [
  {
   "cell_type": "markdown",
   "metadata": {
    "collapsed": true
   },
   "source": [
    "# Language Translation -- Translate sentences from English to French\n",
    "\n",
    "## Get the Data\n",
    "Since translating the whole language of English to French will take lots of time to train, this project use a small portion of the English corpus to train the model."
   ]
  },
  {
   "cell_type": "code",
   "execution_count": 17,
   "metadata": {
    "collapsed": false
   },
   "outputs": [],
   "source": [
    "import assistance\n",
    "\n",
    "source_path = 'data/small_vocab_en'\n",
    "target_path = 'data/small_vocab_fr'\n",
    "source_text = assistance.load_data(source_path)\n",
    "target_text = assistance.load_data(target_path)"
   ]
  },
  {
   "cell_type": "markdown",
   "metadata": {},
   "source": [
    "## Explore the Data\n",
    "Play around with view_sentence_range to view different parts of the data."
   ]
  },
  {
   "cell_type": "code",
   "execution_count": 2,
   "metadata": {
    "collapsed": false
   },
   "outputs": [
    {
     "name": "stdout",
     "output_type": "stream",
     "text": [
      "Dataset Stats\n",
      "Roughly the number of unique words: 227\n",
      "Number of sentences: 137861\n",
      "Average number of words in a sentence: 13.225277634719028\n",
      "\n",
      "English sentences 0 to 10:\n",
      "new jersey is sometimes quiet during autumn , and it is snowy in april .\n",
      "the united states is usually chilly during july , and it is usually freezing in november .\n",
      "california is usually quiet during march , and it is usually hot in june .\n",
      "the united states is sometimes mild during june , and it is cold in september .\n",
      "your least liked fruit is the grape , but my least liked is the apple .\n",
      "his favorite fruit is the orange , but my favorite is the grape .\n",
      "paris is relaxing during december , but it is usually chilly in july .\n",
      "new jersey is busy during spring , and it is never hot in march .\n",
      "our least liked fruit is the lemon , but my least liked is the grape .\n",
      "the united states is sometimes busy during january , and it is sometimes warm in november .\n",
      "\n",
      "French sentences 0 to 10:\n",
      "new jersey est parfois calme pendant l' automne , et il est neigeux en avril .\n",
      "les états-unis est généralement froid en juillet , et il gèle habituellement en novembre .\n",
      "california est généralement calme en mars , et il est généralement chaud en juin .\n",
      "les états-unis est parfois légère en juin , et il fait froid en septembre .\n",
      "votre moins aimé fruit est le raisin , mais mon moins aimé est la pomme .\n",
      "son fruit préféré est l'orange , mais mon préféré est le raisin .\n",
      "paris est relaxant en décembre , mais il est généralement froid en juillet .\n",
      "new jersey est occupé au printemps , et il est jamais chaude en mars .\n",
      "notre fruit est moins aimé le citron , mais mon moins aimé est le raisin .\n",
      "les états-unis est parfois occupé en janvier , et il est parfois chaud en novembre .\n"
     ]
    }
   ],
   "source": [
    "view_sentence_range = (0, 10)\n",
    "\n",
    "import numpy as np\n",
    "\n",
    "print('Dataset Stats')\n",
    "print('Roughly the number of unique words: {}'.format(len({word: None for word in source_text.split()})))\n",
    "\n",
    "sentences = source_text.split('\\n')\n",
    "word_counts = [len(sentence.split()) for sentence in sentences]\n",
    "print('Number of sentences: {}'.format(len(sentences)))\n",
    "print('Average number of words in a sentence: {}'.format(np.average(word_counts)))\n",
    "\n",
    "print()\n",
    "print('English sentences {} to {}:'.format(*view_sentence_range))\n",
    "print('\\n'.join(source_text.split('\\n')[view_sentence_range[0]:view_sentence_range[1]]))\n",
    "print()\n",
    "print('French sentences {} to {}:'.format(*view_sentence_range))\n",
    "print('\\n'.join(target_text.split('\\n')[view_sentence_range[0]:view_sentence_range[1]]))"
   ]
  },
  {
   "cell_type": "markdown",
   "metadata": {},
   "source": [
    "## Implement Preprocessing Function\n",
    "### Text to Word Ids"
   ]
  },
  {
   "cell_type": "code",
   "execution_count": 3,
   "metadata": {
    "collapsed": false
   },
   "outputs": [],
   "source": [
    "import re\n",
    "def text_to_ids(source_text, target_text, source_vocab_to_int, target_vocab_to_int):\n",
    "    \"\"\"\n",
    "    Convert source and target text to proper word ids\n",
    "    :param source_text: String that contains all the source text.\n",
    "    :param target_text: String that contains all the target text.\n",
    "    :param source_vocab_to_int: Dictionary to go from the source words to an id\n",
    "    :param target_vocab_to_int: Dictionary to go from the target words to an id\n",
    "    :return: A tuple of lists (source_id_text, target_id_text)\n",
    "    \"\"\"\n",
    "    sentences_source = source_text.split('\\n')\n",
    "    source_id_text = []\n",
    "    for sent in sentences_source:\n",
    "        source_id_text.append([source_vocab_to_int[word] for word in sent.split( )])\n",
    "    \n",
    "    sentences_target = target_text.split('\\n')\n",
    "    target_id_text = []\n",
    "    for sent in sentences_target:\n",
    "        target_id_text.append([target_vocab_to_int[word] for word in sent.split( )])\n",
    "        target_id_text[-1].append(target_vocab_to_int['<EOS>'])\n",
    "    \n",
    "    return source_id_text, target_id_text"
   ]
  },
  {
   "cell_type": "markdown",
   "metadata": {},
   "source": [
    "### Preprocess all the data and save it\n",
    "Running the code cell below will preprocess all the data and save it to file."
   ]
  },
  {
   "cell_type": "code",
   "execution_count": 4,
   "metadata": {
    "collapsed": true
   },
   "outputs": [],
   "source": [
    "assistance.preprocess_and_save_data(source_path, target_path, text_to_ids)"
   ]
  },
  {
   "cell_type": "markdown",
   "metadata": {},
   "source": [
    "# Check Point\n",
    "Set up a check point then we can come back from here"
   ]
  },
  {
   "cell_type": "code",
   "execution_count": 8,
   "metadata": {
    "collapsed": false
   },
   "outputs": [],
   "source": [
    "import numpy as np\n",
    "import assistance\n",
    "\n",
    "(source_int_text, target_int_text), (source_vocab_to_int, target_vocab_to_int), _ = assistance.load_preprocess()"
   ]
  },
  {
   "cell_type": "markdown",
   "metadata": {},
   "source": [
    "### Check the Version of TensorFlow and Access to GPU\n",
    "This will check to make sure you have the correct version of TensorFlow and access to a GPU"
   ]
  },
  {
   "cell_type": "code",
   "execution_count": 5,
   "metadata": {
    "collapsed": false
   },
   "outputs": [
    {
     "name": "stdout",
     "output_type": "stream",
     "text": [
      "TensorFlow Version: 1.10.1\n"
     ]
    }
   ],
   "source": [
    "from distutils.version import LooseVersion\n",
    "import warnings\n",
    "import tensorflow as tf\n",
    "from tensorflow.python.layers.core import Dense\n",
    "\n",
    "# Check TensorFlow Version\n",
    "assert LooseVersion(tf.__version__) >= LooseVersion('1.1'), 'Please use TensorFlow version 1.1 or newer'\n",
    "print('TensorFlow Version: {}'.format(tf.__version__))\n",
    "\n",
    "# Check for a GPU\n",
    "if not tf.test.gpu_device_name():\n",
    "    warnings.warn('No GPU found. Please use a GPU to train your neural network.')\n",
    "else:\n",
    "    print('Default GPU Device: {}'.format(tf.test.gpu_device_name()))"
   ]
  },
  {
   "cell_type": "markdown",
   "metadata": {},
   "source": [
    "## Build the Neural Network\n",
    "The network has following structure:\n",
    "\n",
    "- `model_inputs`\n",
    "- `process_decoder_input`\n",
    "- `encoding_layer`\n",
    "- `decoding_layer_train`\n",
    "- `decoding_layer_infer`\n",
    "- `decoding_layer`\n",
    "- `seq2seq_model`\n",
    "\n",
    "### Input"
   ]
  },
  {
   "cell_type": "code",
   "execution_count": 9,
   "metadata": {
    "collapsed": false
   },
   "outputs": [],
   "source": [
    "def model_inputs():\n",
    "    \"\"\"\n",
    "    Create TF Placeholders for input, targets, learning rate, and lengths of source and target sequences.\n",
    "    :return: Tuple (input, targets, learning rate, keep probability, target sequence length,\n",
    "    max target sequence length, source sequence length)\n",
    "    \"\"\"\n",
    "    inputs_ = tf.placeholder(tf.int32, (None, None), name='input')\n",
    "    targets = tf.placeholder(tf.int32, (None, None), name='target')\n",
    "    learning_rate = tf.placeholder(tf.float32, name='learning_rate')\n",
    "    keep_prob = tf.placeholder(tf.float32, name='keep_prob')\n",
    "    target_sequence_length = tf.placeholder(tf.int32, [None], name='target_sequence_length')\n",
    "    max_target_sequence_length = tf.reduce_max(target_sequence_length, name='max_target_len')\n",
    "    source_sequence_length = tf.placeholder(tf.int32, [None], name='source_sequence_length')\n",
    "    \n",
    "    return inputs_, targets, learning_rate, keep_prob, target_sequence_length, max_target_sequence_length, source_sequence_length"
   ]
  },
  {
   "cell_type": "markdown",
   "metadata": {},
   "source": [
    "### Process Decoder Input\n",
    "Implement `process_decoder_input` by removing the last word id from each batch in `target_data` and concat the GO ID to the begining of each batch."
   ]
  },
  {
   "cell_type": "code",
   "execution_count": 10,
   "metadata": {
    "collapsed": false
   },
   "outputs": [],
   "source": [
    "def process_decoder_input(target_data, target_vocab_to_int, batch_size):\n",
    "    \"\"\"\n",
    "    Preprocess target data for encoding\n",
    "    :param target_data: Target Placehoder\n",
    "    :param target_vocab_to_int: Dictionary to go from the target words to an id\n",
    "    :param batch_size: Batch Size\n",
    "    :return: Preprocessed target data\n",
    "    \"\"\"\n",
    "    go_id = target_vocab_to_int['<GO>']\n",
    "    ending = tf.strided_slice(input_=target_data, \n",
    "                              begin=[0,0],\n",
    "                              end=[batch_size, -1],\n",
    "                              strides=[1, 1])\n",
    "    decoded = tf.concat([tf.fill([batch_size, 1], go_id), ending], 1)\n",
    "    \n",
    "    return decoded"
   ]
  },
  {
   "cell_type": "markdown",
   "metadata": {},
   "source": [
    "### Encoding\n",
    "Implement `encoding_layer()` to create a Encoder RNN layer:"
   ]
  },
  {
   "cell_type": "code",
   "execution_count": 11,
   "metadata": {
    "collapsed": false,
    "scrolled": false
   },
   "outputs": [],
   "source": [
    "def encoding_layer(rnn_inputs, rnn_size, num_layers, keep_prob, \n",
    "                   source_sequence_length, source_vocab_size, \n",
    "                   encoding_embedding_size):\n",
    "    \"\"\"\n",
    "    Create encoding layer\n",
    "    :param rnn_inputs: Inputs for the RNN\n",
    "    :param rnn_size: RNN Size\n",
    "    :param num_layers: Number of layers\n",
    "    :param keep_prob: Dropout keep probability\n",
    "    :param source_sequence_length: a list of the lengths of each sequence in the batch\n",
    "    :param source_vocab_size: vocabulary size of source data\n",
    "    :param encoding_embedding_size: embedding size of source data\n",
    "    :return: tuple (RNN output, RNN state)\n",
    "    \"\"\"\n",
    "    embed = tf.contrib.layers.embed_sequence(rnn_inputs, vocab_size=source_vocab_size, embed_dim=encoding_embedding_size)\n",
    "    \n",
    "    def lstm_cell(rnn_size):\n",
    "          return tf.contrib.rnn.LSTMCell(rnn_size)\n",
    "    \n",
    "    stacked_lstm = tf.contrib.rnn.MultiRNNCell([lstm_cell(rnn_size) for _ in range(num_layers)])\n",
    "    drop = tf.contrib.rnn.DropoutWrapper(stacked_lstm, output_keep_prob=keep_prob)\n",
    "    outputs, final_state = tf.nn.dynamic_rnn(drop, embed, \n",
    "                                             sequence_length=source_sequence_length, \n",
    "                                             dtype=tf.float32)\n",
    "    return outputs, final_state"
   ]
  },
  {
   "cell_type": "markdown",
   "metadata": {},
   "source": [
    "### Decoding - Training\n",
    "Create a training decoding layer:"
   ]
  },
  {
   "cell_type": "code",
   "execution_count": 12,
   "metadata": {
    "collapsed": false
   },
   "outputs": [],
   "source": [
    "def decoding_layer_train(encoder_state, dec_cell, dec_embed_input, \n",
    "                         target_sequence_length, max_summary_length, \n",
    "                         output_layer, keep_prob):\n",
    "    \"\"\"\n",
    "    Create a decoding layer for training\n",
    "    :param encoder_state: Encoder State\n",
    "    :param dec_cell: Decoder RNN Cell\n",
    "    :param dec_embed_input: Decoder embedded input\n",
    "    :param target_sequence_length: The lengths of each sequence in the target batch\n",
    "    :param max_summary_length: The length of the longest sequence in the batch\n",
    "    :param output_layer: Function to apply the output layer\n",
    "    :param keep_prob: Dropout keep probability\n",
    "    :return: BasicDecoderOutput containing training logits and sample_id\n",
    "    \"\"\"\n",
    "    drop = tf.contrib.rnn.DropoutWrapper(dec_cell, output_keep_prob=keep_prob)\n",
    "    helper = tf.contrib.seq2seq.TrainingHelper(inputs=dec_embed_input, \n",
    "                                               sequence_length=target_sequence_length)\n",
    "    decoder = tf.contrib.seq2seq.BasicDecoder(cell=drop,\n",
    "                                              helper=helper,\n",
    "                                              initial_state=encoder_state,\n",
    "                                              output_layer=output_layer)\n",
    "   \n",
    "    outputs = tf.contrib.seq2seq.dynamic_decode(decoder=decoder, \n",
    "                                                maximum_iterations=max_summary_length)\n",
    "    \n",
    "    return outputs[0]"
   ]
  },
  {
   "cell_type": "markdown",
   "metadata": {},
   "source": [
    "### Decoding - Inference\n",
    "Create inference decoder:"
   ]
  },
  {
   "cell_type": "code",
   "execution_count": 13,
   "metadata": {
    "collapsed": false,
    "scrolled": true
   },
   "outputs": [],
   "source": [
    "def decoding_layer_infer(encoder_state, dec_cell, dec_embeddings, start_of_sequence_id,\n",
    "                         end_of_sequence_id, max_target_sequence_length,\n",
    "                         vocab_size, output_layer, batch_size, keep_prob):\n",
    "    \"\"\"\n",
    "    Create a decoding layer for inference\n",
    "    :param encoder_state: Encoder state\n",
    "    :param dec_cell: Decoder RNN Cell\n",
    "    :param dec_embeddings: Decoder embeddings\n",
    "    :param start_of_sequence_id: GO ID\n",
    "    :param end_of_sequence_id: EOS Id\n",
    "    :param max_target_sequence_length: Maximum length of target sequences\n",
    "    :param vocab_size: Size of decoder/target vocabulary\n",
    "    :param decoding_scope: TenorFlow Variable Scope for decoding\n",
    "    :param output_layer: Function to apply the output layer\n",
    "    :param batch_size: Batch size\n",
    "    :param keep_prob: Dropout keep probability\n",
    "    :return: BasicDecoderOutput containing inference logits and sample_id\n",
    "    \"\"\"\n",
    "    start_tokens = tf.constant([start_of_sequence_id] * batch_size)\n",
    "    drop = tf.contrib.rnn.DropoutWrapper(dec_cell, output_keep_prob=keep_prob)\n",
    "    helper = tf.contrib.seq2seq.GreedyEmbeddingHelper(dec_embeddings, \n",
    "                                                      start_tokens=start_tokens,\n",
    "                                                      end_token=end_of_sequence_id)\n",
    "    decoder = tf.contrib.seq2seq.BasicDecoder(drop, helper, \n",
    "                                              initial_state=encoder_state,\n",
    "                                              output_layer=output_layer)\n",
    "    output = tf.contrib.seq2seq.dynamic_decode(decoder, maximum_iterations=max_target_sequence_length)[0]\n",
    "    \n",
    "    return output"
   ]
  },
  {
   "cell_type": "markdown",
   "metadata": {},
   "source": [
    "### Build the Decoding Layer\n",
    "Implement `decoding_layer()` to create a Decoder RNN layer."
   ]
  },
  {
   "cell_type": "code",
   "execution_count": 14,
   "metadata": {
    "collapsed": false
   },
   "outputs": [],
   "source": [
    "def decoding_layer(dec_input, encoder_state,\n",
    "                   target_sequence_length, max_target_sequence_length,\n",
    "                   rnn_size,\n",
    "                   num_layers, target_vocab_to_int, target_vocab_size,\n",
    "                   batch_size, keep_prob, decoding_embedding_size):\n",
    "    \"\"\"\n",
    "    Create decoding layer\n",
    "    :param dec_input: Decoder input\n",
    "    :param encoder_state: Encoder state\n",
    "    :param target_sequence_length: The lengths of each sequence in the target batch\n",
    "    :param max_target_sequence_length: Maximum length of target sequences\n",
    "    :param rnn_size: RNN Size\n",
    "    :param num_layers: Number of layers\n",
    "    :param target_vocab_to_int: Dictionary to go from the target words to an id\n",
    "    :param target_vocab_size: Size of target vocabulary\n",
    "    :param batch_size: The size of the batch\n",
    "    :param keep_prob: Dropout keep probability\n",
    "    :param decoding_embedding_size: Decoding embedding size\n",
    "    :return: Tuple of (Training BasicDecoderOutput, Inference BasicDecoderOutput)\n",
    "    \"\"\"\n",
    "    dec_embeddings = tf.Variable(tf.random_normal([target_vocab_size, decoding_embedding_size]))\n",
    "    dec_embed_input = tf.nn.embedding_lookup(dec_embeddings, dec_input)\n",
    "    \n",
    "    def lstm_build(rnn_size):\n",
    "        lstm = tf.contrib.rnn.LSTMCell(rnn_size)\n",
    "        return lstm\n",
    "    \n",
    "    cell = tf.contrib.rnn.MultiRNNCell([lstm_build(rnn_size) for _ in range(num_layers)])\n",
    "    \n",
    "    output_layer = Dense(target_vocab_size,\n",
    "                         kernel_initializer = tf.truncated_normal_initializer(mean = 0.0, stddev=0.1))\n",
    "    \n",
    "    with tf.variable_scope('decode'):\n",
    "        training_output = decoding_layer_train(encoder_state=encoder_state, \n",
    "                                               dec_cell=cell, \n",
    "                                               dec_embed_input=dec_embed_input, \n",
    "                                               target_sequence_length=target_sequence_length,\n",
    "                                               max_summary_length=max_target_sequence_length,\n",
    "                                               output_layer=output_layer,\n",
    "                                               keep_prob=keep_prob)\n",
    "    \n",
    "    with tf.variable_scope('decode', reuse=True):\n",
    "        inference_output = decoding_layer_infer(encoder_state, \n",
    "                                                dec_cell=cell, \n",
    "                                                dec_embeddings=dec_embeddings, \n",
    "                                                start_of_sequence_id=target_vocab_to_int['<GO>'],\n",
    "                                                end_of_sequence_id=target_vocab_to_int['<EOS>'],\n",
    "                                                max_target_sequence_length=max_target_sequence_length,\n",
    "                                                vocab_size=target_vocab_size, \n",
    "                                                output_layer=output_layer,\n",
    "                                                batch_size=batch_size,\n",
    "                                                keep_prob=keep_prob)    \n",
    "    \n",
    "    return training_output, inference_output"
   ]
  },
  {
   "cell_type": "markdown",
   "metadata": {},
   "source": [
    "### Build the Neural Network\n",
    "Apply the functions you implemented above to:"
   ]
  },
  {
   "cell_type": "code",
   "execution_count": 15,
   "metadata": {
    "collapsed": false
   },
   "outputs": [],
   "source": [
    "def seq2seq_model(input_data, target_data, keep_prob, batch_size,\n",
    "                  source_sequence_length, target_sequence_length,\n",
    "                  max_target_sentence_length,\n",
    "                  source_vocab_size, target_vocab_size,\n",
    "                  enc_embedding_size, dec_embedding_size,\n",
    "                  rnn_size, num_layers, target_vocab_to_int):\n",
    "    \"\"\"\n",
    "    Build the Sequence-to-Sequence part of the neural network\n",
    "    :param input_data: Input placeholder\n",
    "    :param target_data: Target placeholder\n",
    "    :param keep_prob: Dropout keep probability placeholder\n",
    "    :param batch_size: Batch Size\n",
    "    :param source_sequence_length: Sequence Lengths of source sequences in the batch\n",
    "    :param target_sequence_length: Sequence Lengths of target sequences in the batch\n",
    "    :param source_vocab_size: Source vocabulary size\n",
    "    :param target_vocab_size: Target vocabulary size\n",
    "    :param enc_embedding_size: Decoder embedding size\n",
    "    :param dec_embedding_size: Encoder embedding size\n",
    "    :param rnn_size: RNN Size\n",
    "    :param num_layers: Number of layers\n",
    "    :param target_vocab_to_int: Dictionary to go from the target words to an id\n",
    "    :return: Tuple of (Training BasicDecoderOutput, Inference BasicDecoderOutput)\n",
    "    \"\"\"\n",
    "    outputs, enc_state = encoding_layer(input_data, \n",
    "                                        rnn_size, \n",
    "                                        num_layers, \n",
    "                                        keep_prob, \n",
    "                                        source_sequence_length,\n",
    "                                        source_vocab_size, \n",
    "                                        enc_embedding_size)\n",
    "    \n",
    "    decoded = process_decoder_input(target_data, \n",
    "                                    target_vocab_to_int, \n",
    "                                    batch_size)\n",
    "    \n",
    "    train_out, infer_out = decoding_layer(decoded, \n",
    "                                          enc_state, \n",
    "                                          target_sequence_length, \n",
    "                                          max_target_sentence_length,\n",
    "                                          rnn_size, \n",
    "                                          num_layers,\n",
    "                                          target_vocab_to_int, \n",
    "                                          target_vocab_size, \n",
    "                                          batch_size, \n",
    "                                          keep_prob, \n",
    "                                          dec_embedding_size)\n",
    "    \n",
    "    return train_out, infer_out"
   ]
  },
  {
   "cell_type": "markdown",
   "metadata": {},
   "source": [
    "## Neural Network Training\n",
    "### Hyperparameters\n",
    "Tune the following parameters:\n",
    "\n",
    "- Set `epochs` to the number of epochs.\n",
    "- Set `batch_size` to the batch size.\n",
    "- Set `rnn_size` to the size of the RNNs.\n",
    "- Set `num_layers` to the number of layers.\n",
    "- Set `encoding_embedding_size` to the size of the embedding for the encoder.\n",
    "- Set `decoding_embedding_size` to the size of the embedding for the decoder.\n",
    "- Set `learning_rate` to the learning rate.\n",
    "- Set `keep_probability` to the Dropout keep probability\n",
    "- Set `display_step` to state how many steps between each debug output statement"
   ]
  },
  {
   "cell_type": "code",
   "execution_count": 16,
   "metadata": {
    "collapsed": true
   },
   "outputs": [],
   "source": [
    "# Number of Epochs\n",
    "epochs = 10\n",
    "# Batch Size\n",
    "batch_size = 256\n",
    "# RNN Size\n",
    "rnn_size = 256\n",
    "# Number of Layers\n",
    "num_layers = 3\n",
    "# Embedding Size\n",
    "encoding_embedding_size = 128\n",
    "decoding_embedding_size = 128\n",
    "# Learning Rate\n",
    "learning_rate = 0.001\n",
    "# Dropout Keep Probability\n",
    "keep_probability = 0.5\n",
    "display_step = 50"
   ]
  },
  {
   "cell_type": "markdown",
   "metadata": {},
   "source": [
    "### Build the Graph\n",
    "Build the graph using the neural network"
   ]
  },
  {
   "cell_type": "code",
   "execution_count": 15,
   "metadata": {
    "collapsed": true
   },
   "outputs": [],
   "source": [
    "save_path = 'checkpoints/dev'\n",
    "(source_int_text, target_int_text), (source_vocab_to_int, target_vocab_to_int), _ = helper.load_preprocess()\n",
    "max_target_sentence_length = max([len(sentence) for sentence in source_int_text])\n",
    "\n",
    "train_graph = tf.Graph()\n",
    "with train_graph.as_default():\n",
    "    input_data, targets, lr, keep_prob, target_sequence_length, max_target_sequence_length, source_sequence_length = model_inputs()\n",
    "\n",
    "    input_shape = tf.shape(input_data)\n",
    "\n",
    "    train_logits, inference_logits = seq2seq_model(tf.reverse(input_data, [-1]),\n",
    "                                                   targets,\n",
    "                                                   keep_prob,\n",
    "                                                   batch_size,\n",
    "                                                   source_sequence_length,\n",
    "                                                   target_sequence_length,\n",
    "                                                   max_target_sequence_length,\n",
    "                                                   len(source_vocab_to_int),\n",
    "                                                   len(target_vocab_to_int),\n",
    "                                                   encoding_embedding_size,\n",
    "                                                   decoding_embedding_size,\n",
    "                                                   rnn_size,\n",
    "                                                   num_layers,\n",
    "                                                   target_vocab_to_int)\n",
    "\n",
    "\n",
    "    training_logits = tf.identity(train_logits.rnn_output, name='logits')\n",
    "    inference_logits = tf.identity(inference_logits.sample_id, name='predictions')\n",
    "\n",
    "    masks = tf.sequence_mask(target_sequence_length, max_target_sequence_length, dtype=tf.float32, name='masks')\n",
    "\n",
    "    with tf.name_scope(\"optimization\"):\n",
    "        # Loss function\n",
    "        cost = tf.contrib.seq2seq.sequence_loss(\n",
    "            training_logits,\n",
    "            targets,\n",
    "            masks)\n",
    "\n",
    "        # Optimizer\n",
    "        optimizer = tf.train.AdamOptimizer(lr)\n",
    "\n",
    "        # Gradient Clipping\n",
    "        gradients = optimizer.compute_gradients(cost)\n",
    "        capped_gradients = [(tf.clip_by_value(grad, -1., 1.), var) for grad, var in gradients if grad is not None]\n",
    "        train_op = optimizer.apply_gradients(capped_gradients)\n"
   ]
  },
  {
   "cell_type": "markdown",
   "metadata": {},
   "source": [
    "Batch and pad the source and target sequences"
   ]
  },
  {
   "cell_type": "code",
   "execution_count": 16,
   "metadata": {
    "collapsed": true
   },
   "outputs": [],
   "source": [
    "def pad_sentence_batch(sentence_batch, pad_int):\n",
    "    \"\"\"Pad sentences with <PAD> so that each sentence of a batch has the same length\"\"\"\n",
    "    max_sentence = max([len(sentence) for sentence in sentence_batch])\n",
    "    return [sentence + [pad_int] * (max_sentence - len(sentence)) for sentence in sentence_batch]\n",
    "\n",
    "\n",
    "def get_batches(sources, targets, batch_size, source_pad_int, target_pad_int):\n",
    "    \"\"\"Batch targets, sources, and the lengths of their sentences together\"\"\"\n",
    "    for batch_i in range(0, len(sources)//batch_size):\n",
    "        start_i = batch_i * batch_size\n",
    "\n",
    "        # Slice the right amount for the batch\n",
    "        sources_batch = sources[start_i:start_i + batch_size]\n",
    "        targets_batch = targets[start_i:start_i + batch_size]\n",
    "\n",
    "        # Pad\n",
    "        pad_sources_batch = np.array(pad_sentence_batch(sources_batch, source_pad_int))\n",
    "        pad_targets_batch = np.array(pad_sentence_batch(targets_batch, target_pad_int))\n",
    "\n",
    "        # Need the lengths for the _lengths parameters\n",
    "        pad_targets_lengths = []\n",
    "        for target in pad_targets_batch:\n",
    "            pad_targets_lengths.append(len(target))\n",
    "\n",
    "        pad_source_lengths = []\n",
    "        for source in pad_sources_batch:\n",
    "            pad_source_lengths.append(len(source))\n",
    "\n",
    "        yield pad_sources_batch, pad_targets_batch, pad_source_lengths, pad_targets_lengths\n"
   ]
  },
  {
   "cell_type": "markdown",
   "metadata": {},
   "source": [
    "### Train\n",
    "Train the neural network on the preprocessed data. If you have a hard time getting a good loss, check the forms to see if anyone is having the same problem."
   ]
  },
  {
   "cell_type": "code",
   "execution_count": 17,
   "metadata": {
    "collapsed": false,
    "scrolled": true
   },
   "outputs": [
    {
     "name": "stdout",
     "output_type": "stream",
     "text": [
      "Epoch   1 Batch   50/538 - Train Accuracy: 0.3869, Validation Accuracy: 0.4503, Loss: 2.2801\n",
      "Epoch   1 Batch  100/538 - Train Accuracy: 0.3980, Validation Accuracy: 0.4622, Loss: 1.5440\n",
      "Epoch   1 Batch  150/538 - Train Accuracy: 0.4412, Validation Accuracy: 0.4714, Loss: 1.2156\n",
      "Epoch   1 Batch  200/538 - Train Accuracy: 0.4752, Validation Accuracy: 0.5087, Loss: 1.0019\n",
      "Epoch   1 Batch  250/538 - Train Accuracy: 0.5027, Validation Accuracy: 0.5304, Loss: 0.8697\n",
      "Epoch   1 Batch  300/538 - Train Accuracy: 0.5657, Validation Accuracy: 0.5659, Loss: 0.7734\n",
      "Epoch   1 Batch  350/538 - Train Accuracy: 0.5997, Validation Accuracy: 0.6060, Loss: 0.7210\n",
      "Epoch   1 Batch  400/538 - Train Accuracy: 0.5854, Validation Accuracy: 0.5927, Loss: 0.6570\n",
      "Epoch   1 Batch  450/538 - Train Accuracy: 0.6336, Validation Accuracy: 0.6261, Loss: 0.6344\n",
      "Epoch   1 Batch  500/538 - Train Accuracy: 0.6419, Validation Accuracy: 0.6266, Loss: 0.5430\n",
      "Epoch   2 Batch   50/538 - Train Accuracy: 0.6379, Validation Accuracy: 0.6653, Loss: 0.5621\n",
      "Epoch   2 Batch  100/538 - Train Accuracy: 0.6141, Validation Accuracy: 0.6428, Loss: 0.4980\n",
      "Epoch   2 Batch  150/538 - Train Accuracy: 0.6340, Validation Accuracy: 0.6694, Loss: 0.4857\n",
      "Epoch   2 Batch  200/538 - Train Accuracy: 0.6643, Validation Accuracy: 0.6637, Loss: 0.4542\n",
      "Epoch   2 Batch  250/538 - Train Accuracy: 0.6619, Validation Accuracy: 0.6562, Loss: 0.4701\n",
      "Epoch   2 Batch  300/538 - Train Accuracy: 0.6799, Validation Accuracy: 0.6974, Loss: 0.3912\n",
      "Epoch   2 Batch  350/538 - Train Accuracy: 0.7236, Validation Accuracy: 0.7214, Loss: 0.3726\n",
      "Epoch   2 Batch  400/538 - Train Accuracy: 0.7301, Validation Accuracy: 0.7067, Loss: 0.3358\n",
      "Epoch   2 Batch  450/538 - Train Accuracy: 0.7515, Validation Accuracy: 0.7567, Loss: 0.3202\n",
      "Epoch   2 Batch  500/538 - Train Accuracy: 0.7939, Validation Accuracy: 0.7425, Loss: 0.2484\n",
      "Epoch   3 Batch   50/538 - Train Accuracy: 0.8236, Validation Accuracy: 0.8033, Loss: 0.2267\n",
      "Epoch   3 Batch  100/538 - Train Accuracy: 0.8279, Validation Accuracy: 0.8143, Loss: 0.2028\n",
      "Epoch   3 Batch  150/538 - Train Accuracy: 0.8479, Validation Accuracy: 0.8370, Loss: 0.1871\n",
      "Epoch   3 Batch  200/538 - Train Accuracy: 0.8695, Validation Accuracy: 0.8567, Loss: 0.1602\n",
      "Epoch   3 Batch  250/538 - Train Accuracy: 0.8906, Validation Accuracy: 0.8585, Loss: 0.1634\n",
      "Epoch   3 Batch  300/538 - Train Accuracy: 0.8815, Validation Accuracy: 0.8871, Loss: 0.1458\n",
      "Epoch   3 Batch  350/538 - Train Accuracy: 0.9040, Validation Accuracy: 0.8855, Loss: 0.1388\n",
      "Epoch   3 Batch  400/538 - Train Accuracy: 0.8925, Validation Accuracy: 0.8793, Loss: 0.1275\n",
      "Epoch   3 Batch  450/538 - Train Accuracy: 0.8882, Validation Accuracy: 0.9242, Loss: 0.1236\n",
      "Epoch   3 Batch  500/538 - Train Accuracy: 0.9265, Validation Accuracy: 0.9139, Loss: 0.0825\n",
      "Epoch   4 Batch   50/538 - Train Accuracy: 0.8977, Validation Accuracy: 0.8990, Loss: 0.0920\n",
      "Epoch   4 Batch  100/538 - Train Accuracy: 0.9191, Validation Accuracy: 0.9199, Loss: 0.0815\n",
      "Epoch   4 Batch  150/538 - Train Accuracy: 0.9180, Validation Accuracy: 0.9251, Loss: 0.0781\n",
      "Epoch   4 Batch  200/538 - Train Accuracy: 0.9309, Validation Accuracy: 0.9249, Loss: 0.0698\n",
      "Epoch   4 Batch  250/538 - Train Accuracy: 0.9402, Validation Accuracy: 0.9268, Loss: 0.0670\n",
      "Epoch   4 Batch  300/538 - Train Accuracy: 0.9230, Validation Accuracy: 0.9276, Loss: 0.0736\n",
      "Epoch   4 Batch  350/538 - Train Accuracy: 0.9332, Validation Accuracy: 0.9338, Loss: 0.0733\n",
      "Epoch   4 Batch  400/538 - Train Accuracy: 0.9364, Validation Accuracy: 0.9309, Loss: 0.0650\n",
      "Epoch   4 Batch  450/538 - Train Accuracy: 0.9094, Validation Accuracy: 0.9391, Loss: 0.0807\n",
      "Epoch   4 Batch  500/538 - Train Accuracy: 0.9542, Validation Accuracy: 0.9338, Loss: 0.0486\n",
      "Epoch   5 Batch   50/538 - Train Accuracy: 0.9287, Validation Accuracy: 0.9411, Loss: 0.0510\n",
      "Epoch   5 Batch  100/538 - Train Accuracy: 0.9398, Validation Accuracy: 0.9364, Loss: 0.0679\n",
      "Epoch   5 Batch  150/538 - Train Accuracy: 0.9270, Validation Accuracy: 0.9290, Loss: 0.0522\n",
      "Epoch   5 Batch  200/538 - Train Accuracy: 0.9455, Validation Accuracy: 0.9382, Loss: 0.0455\n",
      "Epoch   5 Batch  250/538 - Train Accuracy: 0.9395, Validation Accuracy: 0.9402, Loss: 0.0490\n",
      "Epoch   5 Batch  300/538 - Train Accuracy: 0.9245, Validation Accuracy: 0.9446, Loss: 0.0482\n",
      "Epoch   5 Batch  350/538 - Train Accuracy: 0.9325, Validation Accuracy: 0.9387, Loss: 0.0705\n",
      "Epoch   5 Batch  400/538 - Train Accuracy: 0.9422, Validation Accuracy: 0.9426, Loss: 0.0477\n",
      "Epoch   5 Batch  450/538 - Train Accuracy: 0.8890, Validation Accuracy: 0.9070, Loss: 0.0726\n",
      "Epoch   5 Batch  500/538 - Train Accuracy: 0.9600, Validation Accuracy: 0.9451, Loss: 0.0344\n",
      "Epoch   6 Batch   50/538 - Train Accuracy: 0.9357, Validation Accuracy: 0.9426, Loss: 0.0417\n",
      "Epoch   6 Batch  100/538 - Train Accuracy: 0.9617, Validation Accuracy: 0.9498, Loss: 0.0364\n",
      "Epoch   6 Batch  150/538 - Train Accuracy: 0.9537, Validation Accuracy: 0.9553, Loss: 0.0361\n",
      "Epoch   6 Batch  200/538 - Train Accuracy: 0.9551, Validation Accuracy: 0.9446, Loss: 0.0332\n",
      "Epoch   6 Batch  250/538 - Train Accuracy: 0.9629, Validation Accuracy: 0.9467, Loss: 0.0377\n",
      "Epoch   6 Batch  300/538 - Train Accuracy: 0.9451, Validation Accuracy: 0.9572, Loss: 0.0402\n",
      "Epoch   6 Batch  350/538 - Train Accuracy: 0.9537, Validation Accuracy: 0.9444, Loss: 0.0408\n",
      "Epoch   6 Batch  400/538 - Train Accuracy: 0.9634, Validation Accuracy: 0.9414, Loss: 0.0412\n",
      "Epoch   6 Batch  450/538 - Train Accuracy: 0.9191, Validation Accuracy: 0.9540, Loss: 0.0488\n",
      "Epoch   6 Batch  500/538 - Train Accuracy: 0.9775, Validation Accuracy: 0.9457, Loss: 0.0274\n",
      "Epoch   7 Batch   50/538 - Train Accuracy: 0.9500, Validation Accuracy: 0.9586, Loss: 0.0293\n",
      "Epoch   7 Batch  100/538 - Train Accuracy: 0.9611, Validation Accuracy: 0.9569, Loss: 0.0272\n",
      "Epoch   7 Batch  150/538 - Train Accuracy: 0.9604, Validation Accuracy: 0.9544, Loss: 0.0317\n",
      "Epoch   7 Batch  200/538 - Train Accuracy: 0.9611, Validation Accuracy: 0.9489, Loss: 0.0277\n",
      "Epoch   7 Batch  250/538 - Train Accuracy: 0.9719, Validation Accuracy: 0.9563, Loss: 0.0319\n",
      "Epoch   7 Batch  300/538 - Train Accuracy: 0.9496, Validation Accuracy: 0.9588, Loss: 0.0325\n",
      "Epoch   7 Batch  350/538 - Train Accuracy: 0.9568, Validation Accuracy: 0.9540, Loss: 0.0386\n",
      "Epoch   7 Batch  400/538 - Train Accuracy: 0.9702, Validation Accuracy: 0.9535, Loss: 0.0280\n",
      "Epoch   7 Batch  450/538 - Train Accuracy: 0.9356, Validation Accuracy: 0.9572, Loss: 0.0411\n",
      "Epoch   7 Batch  500/538 - Train Accuracy: 0.9760, Validation Accuracy: 0.9432, Loss: 0.0205\n",
      "Epoch   8 Batch   50/538 - Train Accuracy: 0.9631, Validation Accuracy: 0.9498, Loss: 0.0267\n",
      "Epoch   8 Batch  100/538 - Train Accuracy: 0.9816, Validation Accuracy: 0.9640, Loss: 0.0216\n",
      "Epoch   8 Batch  150/538 - Train Accuracy: 0.9736, Validation Accuracy: 0.9636, Loss: 0.0254\n",
      "Epoch   8 Batch  200/538 - Train Accuracy: 0.9707, Validation Accuracy: 0.9563, Loss: 0.0203\n",
      "Epoch   8 Batch  250/538 - Train Accuracy: 0.9760, Validation Accuracy: 0.9482, Loss: 0.0234\n",
      "Epoch   8 Batch  300/538 - Train Accuracy: 0.9622, Validation Accuracy: 0.9608, Loss: 0.0265\n",
      "Epoch   8 Batch  350/538 - Train Accuracy: 0.9613, Validation Accuracy: 0.9615, Loss: 0.0259\n",
      "Epoch   8 Batch  400/538 - Train Accuracy: 0.9682, Validation Accuracy: 0.9400, Loss: 0.0268\n",
      "Epoch   8 Batch  450/538 - Train Accuracy: 0.9544, Validation Accuracy: 0.9730, Loss: 0.0343\n",
      "Epoch   8 Batch  500/538 - Train Accuracy: 0.9771, Validation Accuracy: 0.9600, Loss: 0.0270\n",
      "Epoch   9 Batch   50/538 - Train Accuracy: 0.9678, Validation Accuracy: 0.9650, Loss: 0.0238\n",
      "Epoch   9 Batch  100/538 - Train Accuracy: 0.9885, Validation Accuracy: 0.9723, Loss: 0.0183\n",
      "Epoch   9 Batch  150/538 - Train Accuracy: 0.9750, Validation Accuracy: 0.9611, Loss: 0.0187\n",
      "Epoch   9 Batch  200/538 - Train Accuracy: 0.9811, Validation Accuracy: 0.9597, Loss: 0.0168\n",
      "Epoch   9 Batch  250/538 - Train Accuracy: 0.9736, Validation Accuracy: 0.9572, Loss: 0.0245\n",
      "Epoch   9 Batch  300/538 - Train Accuracy: 0.9596, Validation Accuracy: 0.9540, Loss: 0.0279\n",
      "Epoch   9 Batch  350/538 - Train Accuracy: 0.9621, Validation Accuracy: 0.9648, Loss: 0.0269\n",
      "Epoch   9 Batch  400/538 - Train Accuracy: 0.9760, Validation Accuracy: 0.9735, Loss: 0.0244\n",
      "Epoch   9 Batch  450/538 - Train Accuracy: 0.9528, Validation Accuracy: 0.9790, Loss: 0.0327\n",
      "Epoch   9 Batch  500/538 - Train Accuracy: 0.9838, Validation Accuracy: 0.9593, Loss: 0.0154\n",
      "Epoch  10 Batch   50/538 - Train Accuracy: 0.9691, Validation Accuracy: 0.9666, Loss: 0.0207\n",
      "Epoch  10 Batch  100/538 - Train Accuracy: 0.9877, Validation Accuracy: 0.9778, Loss: 0.0170\n",
      "Epoch  10 Batch  150/538 - Train Accuracy: 0.9811, Validation Accuracy: 0.9609, Loss: 0.0192\n",
      "Epoch  10 Batch  200/538 - Train Accuracy: 0.9752, Validation Accuracy: 0.9419, Loss: 0.0175\n",
      "Epoch  10 Batch  250/538 - Train Accuracy: 0.9740, Validation Accuracy: 0.9624, Loss: 0.0208\n",
      "Epoch  10 Batch  300/538 - Train Accuracy: 0.9738, Validation Accuracy: 0.9657, Loss: 0.0179\n",
      "Epoch  10 Batch  350/538 - Train Accuracy: 0.9648, Validation Accuracy: 0.9435, Loss: 0.0490\n",
      "Epoch  10 Batch  400/538 - Train Accuracy: 0.9732, Validation Accuracy: 0.9716, Loss: 0.0209\n",
      "Epoch  10 Batch  450/538 - Train Accuracy: 0.9602, Validation Accuracy: 0.9746, Loss: 0.0297\n",
      "Epoch  10 Batch  500/538 - Train Accuracy: 0.9737, Validation Accuracy: 0.9529, Loss: 0.0242\n",
      "Model Trained and Saved\n"
     ]
    }
   ],
   "source": [
    "def get_accuracy(target, logits):\n",
    "    \"\"\"\n",
    "    Calculate accuracy\n",
    "    \"\"\"\n",
    "    max_seq = max(target.shape[1], logits.shape[1])\n",
    "    if max_seq - target.shape[1]:\n",
    "        target = np.pad(\n",
    "            target,\n",
    "            [(0,0),(0,max_seq - target.shape[1])],\n",
    "            'constant')\n",
    "    if max_seq - logits.shape[1]:\n",
    "        logits = np.pad(\n",
    "            logits,\n",
    "            [(0,0),(0,max_seq - logits.shape[1])],\n",
    "            'constant')\n",
    "\n",
    "    return np.mean(np.equal(target, logits))\n",
    "\n",
    "# Split data to training and validation sets\n",
    "train_source = source_int_text[batch_size:]\n",
    "train_target = target_int_text[batch_size:]\n",
    "valid_source = source_int_text[:batch_size]\n",
    "valid_target = target_int_text[:batch_size]\n",
    "(valid_sources_batch, valid_targets_batch, valid_sources_lengths, valid_targets_lengths ) = next(get_batches(valid_source,\n",
    "                                                                                                             valid_target,\n",
    "                                                                                                             batch_size,\n",
    "                                                                                                             source_vocab_to_int['<PAD>'],\n",
    "                                                                                                             target_vocab_to_int['<PAD>']))                                                                                                  \n",
    "with tf.Session(graph=train_graph) as sess:\n",
    "    sess.run(tf.global_variables_initializer())\n",
    "\n",
    "    for epoch_i in range(epochs):\n",
    "        for batch_i, (source_batch, target_batch, sources_lengths, targets_lengths) in enumerate(\n",
    "                get_batches(train_source, train_target, batch_size,\n",
    "                            source_vocab_to_int['<PAD>'],\n",
    "                            target_vocab_to_int['<PAD>'])):\n",
    "\n",
    "            _, loss = sess.run(\n",
    "                [train_op, cost],\n",
    "                {input_data: source_batch,\n",
    "                 targets: target_batch,\n",
    "                 lr: learning_rate,\n",
    "                 target_sequence_length: targets_lengths,\n",
    "                 source_sequence_length: sources_lengths,\n",
    "                 keep_prob: keep_probability})\n",
    "\n",
    "\n",
    "            if batch_i % display_step == 0 and batch_i > 0:\n",
    "\n",
    "\n",
    "                batch_train_logits = sess.run(\n",
    "                    inference_logits,\n",
    "                    {input_data: source_batch,\n",
    "                     source_sequence_length: sources_lengths,\n",
    "                     target_sequence_length: targets_lengths,\n",
    "                     keep_prob: 1.0})\n",
    "\n",
    "\n",
    "                batch_valid_logits = sess.run(\n",
    "                    inference_logits,\n",
    "                    {input_data: valid_sources_batch,\n",
    "                     source_sequence_length: valid_sources_lengths,\n",
    "                     target_sequence_length: valid_targets_lengths,\n",
    "                     keep_prob: 1.0})\n",
    "\n",
    "                train_acc = get_accuracy(target_batch, batch_train_logits)\n",
    "\n",
    "                valid_acc = get_accuracy(valid_targets_batch, batch_valid_logits)\n",
    "\n",
    "                print('Epoch {:>3} Batch {:>4}/{} - Train Accuracy: {:>6.4f}, Validation Accuracy: {:>6.4f}, Loss: {:>6.4f}'\n",
    "                      .format(epoch_i+1, batch_i, len(source_int_text) // batch_size, train_acc, valid_acc, loss))\n",
    "\n",
    "    # Save Model\n",
    "    saver = tf.train.Saver()\n",
    "    saver.save(sess, save_path)\n",
    "    print('Model Trained and Saved')"
   ]
  },
  {
   "cell_type": "markdown",
   "metadata": {},
   "source": [
    "### Save Parameters\n",
    "Save the `batch_size` and `save_path` parameters for inference."
   ]
  },
  {
   "cell_type": "code",
   "execution_count": 18,
   "metadata": {
    "collapsed": true
   },
   "outputs": [],
   "source": [
    "# Save parameters for checkpoint\n",
    "helper.save_params(save_path)"
   ]
  },
  {
   "cell_type": "markdown",
   "metadata": {},
   "source": [
    "# Checkpoint"
   ]
  },
  {
   "cell_type": "code",
   "execution_count": 19,
   "metadata": {
    "collapsed": true
   },
   "outputs": [],
   "source": [
    "import tensorflow as tf\n",
    "import numpy as np\n",
    "import helper\n",
    "import problem_unittests as tests\n",
    "\n",
    "_, (source_vocab_to_int, target_vocab_to_int), (source_int_to_vocab, target_int_to_vocab) = helper.load_preprocess()\n",
    "load_path = helper.load_params()"
   ]
  },
  {
   "cell_type": "markdown",
   "metadata": {},
   "source": [
    "## Sentence to Sequence\n",
    "To feed a sentence into the model for translation, you first need to preprocess it.  Implement the function `sentence_to_seq()` to preprocess new sentences."
   ]
  },
  {
   "cell_type": "code",
   "execution_count": 22,
   "metadata": {
    "collapsed": false
   },
   "outputs": [
    {
     "name": "stdout",
     "output_type": "stream",
     "text": [
      "Tests Passed\n"
     ]
    }
   ],
   "source": [
    "def sentence_to_seq(sentence, vocab_to_int):\n",
    "    \"\"\"\n",
    "    Convert a sentence to a sequence of ids\n",
    "    :param sentence: String\n",
    "    :param vocab_to_int: Dictionary to go from the words to an id\n",
    "    :return: List of word ids\n",
    "    \"\"\"\n",
    "    sentence_lower = sentence.lower()\n",
    "    idx_words = []\n",
    "    for word in sentence_lower.split( ):\n",
    "        try:\n",
    "            idx_words.append(vocab_to_int[word])\n",
    "        except:\n",
    "            idx_words.append(vocab_to_int['<UNK>'])\n",
    "    return idx_words"
   ]
  },
  {
   "cell_type": "markdown",
   "metadata": {},
   "source": [
    "## Translate\n",
    "This will translate `translate_sentence` from English to French."
   ]
  },
  {
   "cell_type": "code",
   "execution_count": 23,
   "metadata": {
    "collapsed": false
   },
   "outputs": [
    {
     "name": "stdout",
     "output_type": "stream",
     "text": [
      "INFO:tensorflow:Restoring parameters from checkpoints/dev\n",
      "Input\n",
      "  Word Ids:      [60, 228, 73, 26, 4, 81, 203]\n",
      "  English Words: ['he', 'saw', 'a', 'old', 'yellow', 'truck', '.']\n",
      "\n",
      "Prediction\n",
      "  Word Ids:      [182, 208, 228, 270, 57, 256, 251, 172, 1]\n",
      "  French Words: il a vu un vieux camion jaune . <EOS>\n"
     ]
    }
   ],
   "source": [
    "translate_sentence = 'he saw a old yellow truck .'\n",
    "\n",
    "\n",
    "translate_sentence = sentence_to_seq(translate_sentence, source_vocab_to_int)\n",
    "\n",
    "loaded_graph = tf.Graph()\n",
    "with tf.Session(graph=loaded_graph) as sess:\n",
    "    # Load saved model\n",
    "    loader = tf.train.import_meta_graph(load_path + '.meta')\n",
    "    loader.restore(sess, load_path)\n",
    "\n",
    "    input_data = loaded_graph.get_tensor_by_name('input:0')\n",
    "    logits = loaded_graph.get_tensor_by_name('predictions:0')\n",
    "    target_sequence_length = loaded_graph.get_tensor_by_name('target_sequence_length:0')\n",
    "    source_sequence_length = loaded_graph.get_tensor_by_name('source_sequence_length:0')\n",
    "    keep_prob = loaded_graph.get_tensor_by_name('keep_prob:0')\n",
    "\n",
    "    translate_logits = sess.run(logits, {input_data: [translate_sentence]*batch_size,\n",
    "                                         target_sequence_length: [len(translate_sentence)*2]*batch_size,\n",
    "                                         source_sequence_length: [len(translate_sentence)]*batch_size,\n",
    "                                         keep_prob: 1.0})[0]\n",
    "\n",
    "print('Input')\n",
    "print('  Word Ids:      {}'.format([i for i in translate_sentence]))\n",
    "print('  English Words: {}'.format([source_int_to_vocab[i] for i in translate_sentence]))\n",
    "\n",
    "print('\\nPrediction')\n",
    "print('  Word Ids:      {}'.format([i for i in translate_logits]))\n",
    "print('  French Words: {}'.format(\" \".join([target_int_to_vocab[i] for i in translate_logits])))\n"
   ]
  }
 ],
 "metadata": {
  "anaconda-cloud": {},
  "kernelspec": {
   "display_name": "Python 3",
   "language": "python",
   "name": "python3"
  },
  "language_info": {
   "codemirror_mode": {
    "name": "ipython",
    "version": 3
   },
   "file_extension": ".py",
   "mimetype": "text/x-python",
   "name": "python",
   "nbconvert_exporter": "python",
   "pygments_lexer": "ipython3",
   "version": "3.5.4"
  }
 },
 "nbformat": 4,
 "nbformat_minor": 1
}
